{
 "cells": [
  {
   "cell_type": "code",
   "execution_count": null,
   "id": "f20a3dd1",
   "metadata": {},
   "outputs": [],
   "source": [
    "import pandas as pd\n",
    "from sqlalchemy import create_engine"
   ]
  },
  {
   "cell_type": "code",
   "execution_count": null,
   "id": "1b6d787f",
   "metadata": {},
   "outputs": [],
   "source": [
    "#connect to local db\n",
    "\n",
    "protocol = 'postgresql'\n",
    "username = ''\n",
    "password = ''\n",
    "host = 'localhost'\n",
    "port = 5432\n",
    "database_name = 'happiness_db'\n",
    "rds_connection_string = f'{protocol}://{username}:{password}@{host}:{port}/{database_name}'\n",
    "engine = create_engine(rds_connection_string)"
   ]
  },
  {
   "cell_type": "code",
   "execution_count": null,
   "id": "99bcf740",
   "metadata": {},
   "outputs": [],
   "source": [
    "#confirm table names in SQL\n",
    "engine.table_names()"
   ]
  },
  {
   "cell_type": "code",
   "execution_count": null,
   "id": "e35229d7",
   "metadata": {},
   "outputs": [],
   "source": [
    "#add the happiness df\n",
    "hapiness_df.to_sql(name='HAPPINESS', con=engine, if_exists='append', index=False)"
   ]
  },
  {
   "cell_type": "code",
   "execution_count": null,
   "id": "6b5ddc32",
   "metadata": {},
   "outputs": [],
   "source": [
    "#add the SUICIDE df\n",
    "suic_rate_df.to_sql(name='SUICIDE_RATE', con=engine, if_exists='append', index=False)"
   ]
  },
  {
   "cell_type": "code",
   "execution_count": null,
   "id": "0b2819f4",
   "metadata": {},
   "outputs": [],
   "source": [
    "#add the POPULATION df\n",
    "pop_growth_df.to_sql(name='POPULATION_GROWTH', con=engine, if_exists='append', index=False)"
   ]
  },
  {
   "cell_type": "code",
   "execution_count": null,
   "id": "05f8b53e",
   "metadata": {},
   "outputs": [],
   "source": [
    "#add the INDIA  df\n",
    "india_gdp_df.to_sql(name='INDIA_GDP', con=engine, if_exists='append', index=False)"
   ]
  },
  {
   "cell_type": "code",
   "execution_count": null,
   "id": "1c19642f",
   "metadata": {},
   "outputs": [],
   "source": [
    "#confirm data is there HAPPINESS\n",
    "pd.read_sql_query('select * from HAPPINESS', con=engine).head()"
   ]
  },
  {
   "cell_type": "code",
   "execution_count": null,
   "id": "df0cfbf2",
   "metadata": {},
   "outputs": [],
   "source": [
    "#confirm data is there SUICIDE_RATE\n",
    "pd.read_sql_query('select * from SUICIDE_RATE', con=engine).head()"
   ]
  },
  {
   "cell_type": "code",
   "execution_count": null,
   "id": "88516789",
   "metadata": {},
   "outputs": [],
   "source": [
    "#confirm data is there POPULATION_GROWTH\n",
    "pd.read_sql_query('select * from POPULATION_GROWTH', con=engine).head()"
   ]
  },
  {
   "cell_type": "code",
   "execution_count": null,
   "id": "cd2f6122",
   "metadata": {},
   "outputs": [],
   "source": [
    "#confirm data is there INDIA_GDP\n",
    "pd.read_sql_query('select * from INDIA_GDP', con=engine).head()"
   ]
  }
 ],
 "metadata": {
  "kernelspec": {
   "display_name": "PythonData",
   "language": "python",
   "name": "pythondata"
  },
  "language_info": {
   "codemirror_mode": {
    "name": "ipython",
    "version": 3
   },
   "file_extension": ".py",
   "mimetype": "text/x-python",
   "name": "python",
   "nbconvert_exporter": "python",
   "pygments_lexer": "ipython3",
   "version": "3.7.7"
  }
 },
 "nbformat": 4,
 "nbformat_minor": 5
}
