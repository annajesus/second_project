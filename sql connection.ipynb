{
 "cells": [
  {
   "cell_type": "code",
   "execution_count": null,
   "id": "011efd8c",
   "metadata": {},
   "outputs": [],
   "source": [
    "import pandas as pd\n",
    "from sqlalchemy import create_engine"
   ]
  },
  {
   "cell_type": "code",
   "execution_count": null,
   "id": "0ae0be98",
   "metadata": {},
   "outputs": [],
   "source": [
    "#connect to local db\n",
    "\n",
    "protocol = 'postgresql'\n",
    "username = ''\n",
    "password = ''\n",
    "host = 'localhost'\n",
    "port = 5432\n",
    "database_name = 'happiness_db'\n",
    "rds_connection_string = f'{protocol}://{username}:{password}@{host}:{port}/{database_name}'\n",
    "engine = create_engine(rds_connection_string)"
   ]
  },
  {
   "cell_type": "code",
   "execution_count": null,
   "id": "e6f7aee1",
   "metadata": {},
   "outputs": [],
   "source": [
    "#confirm table names in SQL\n",
    "engine.table_names()"
   ]
  },
  {
   "cell_type": "code",
   "execution_count": null,
   "id": "ce2b99b4",
   "metadata": {},
   "outputs": [],
   "source": [
    "#add the happiness df\n",
    "hapiness_df.to_sql(name='HAPPINESS', con=engine, if_exists='append', index=False)"
   ]
  },
  {
   "cell_type": "code",
   "execution_count": null,
   "id": "496e9ebb",
   "metadata": {},
   "outputs": [],
   "source": [
    "#add the SUICIDE df\n",
    "hapiness_df.to_sql(name='SUICIDE_RATE', con=engine, if_exists='append', index=False)"
   ]
  },
  {
   "cell_type": "code",
   "execution_count": null,
   "id": "a6a77f4e",
   "metadata": {},
   "outputs": [],
   "source": [
    "#add the POPULATION df\n",
    "hapiness_df.to_sql(name='POPULATION_GROWTH', con=engine, if_exists='append', index=False)"
   ]
  },
  {
   "cell_type": "code",
   "execution_count": null,
   "id": "d8e4a3e4",
   "metadata": {},
   "outputs": [],
   "source": [
    "#add the POPULATION df\n",
    "hapiness_df.to_sql(name='INDIA_GDP', con=engine, if_exists='append', index=False)"
   ]
  },
  {
   "cell_type": "code",
   "execution_count": null,
   "id": "396a9431",
   "metadata": {},
   "outputs": [],
   "source": [
    "#confirm data is there HAPPINESS\n",
    "pd.read_sql_query('select * from HAPPINESS', con=engine).head()"
   ]
  },
  {
   "cell_type": "code",
   "execution_count": null,
   "id": "8500ae75",
   "metadata": {},
   "outputs": [],
   "source": [
    "#confirm data is there SUICIDE_RATE\n",
    "pd.read_sql_query('select * from SUICIDE_RATE', con=engine).head()"
   ]
  },
  {
   "cell_type": "code",
   "execution_count": null,
   "id": "f29e4b8f",
   "metadata": {},
   "outputs": [],
   "source": [
    "#confirm data is there POPULATION_GROWTH\n",
    "pd.read_sql_query('select * from POPULATION_GROWTH', con=engine).head()"
   ]
  },
  {
   "cell_type": "code",
   "execution_count": null,
   "id": "1a6259e5",
   "metadata": {},
   "outputs": [],
   "source": [
    "#confirm data is there INDIA_GDP\n",
    "pd.read_sql_query('select * from INDIA_GDP', con=engine).head()"
   ]
  }
 ],
 "metadata": {
  "kernelspec": {
   "display_name": "PythonData",
   "language": "python",
   "name": "pythondata"
  },
  "language_info": {
   "codemirror_mode": {
    "name": "ipython",
    "version": 3
   },
   "file_extension": ".py",
   "mimetype": "text/x-python",
   "name": "python",
   "nbconvert_exporter": "python",
   "pygments_lexer": "ipython3",
   "version": "3.7.7"
  }
 },
 "nbformat": 4,
 "nbformat_minor": 5
}
